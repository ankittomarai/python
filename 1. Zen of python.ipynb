{
 "cells": [
  {
   "cell_type": "markdown",
   "metadata": {},
   "source": [
    "## Coding standards and guidelines \n",
    "\n",
    "If you are new to python development, you might not be aware what I am talking about. ‘Zen of Python’  are the guidelines set by the python developer.\n",
    "\n",
    "Let us open any python terminal and type below:\n"
   ]
  },
  {
   "cell_type": "code",
   "execution_count": 1,
   "metadata": {},
   "outputs": [
    {
     "name": "stdout",
     "output_type": "stream",
     "text": [
      "The Zen of Python, by Tim Peters\n",
      "\n",
      "Beautiful is better than ugly.\n",
      "Explicit is better than implicit.\n",
      "Simple is better than complex.\n",
      "Complex is better than complicated.\n",
      "Flat is better than nested.\n",
      "Sparse is better than dense.\n",
      "Readability counts.\n",
      "Special cases aren't special enough to break the rules.\n",
      "Although practicality beats purity.\n",
      "Errors should never pass silently.\n",
      "Unless explicitly silenced.\n",
      "In the face of ambiguity, refuse the temptation to guess.\n",
      "There should be one-- and preferably only one --obvious way to do it.\n",
      "Although that way may not be obvious at first unless you're Dutch.\n",
      "Now is better than never.\n",
      "Although never is often better than *right* now.\n",
      "If the implementation is hard to explain, it's a bad idea.\n",
      "If the implementation is easy to explain, it may be a good idea.\n",
      "Namespaces are one honking great idea -- let's do more of those!\n"
     ]
    }
   ],
   "source": [
    "import this"
   ]
  },
  {
   "attachments": {},
   "cell_type": "markdown",
   "metadata": {},
   "source": [
    "## Why should you care about it\n",
    "\n",
    "These are the guidelines provided by Python creators so that we all have same level of understanding of the program structures and coding work.\n",
    "\n",
    "Let me ask you a question.\n",
    "\n",
    "Have you ever faced issue with someone's handwriting which was far away from your interpretation? \n",
    "\n",
    "For an example medical professional's (just joking). But still writing a good program starts with good handwriting which is standards and programming guidelines so that anyone can interpret these programs as it is. \n",
    "\n",
    "We do a lot of doctor's like programmers who write programs in such a way that only S/he can tell what it does. \n",
    "\n",
    "To avoid such cases and grow faster with Python, I want you start with learning 'Zen of Python'. \n",
    "\n",
    "Learn the art of good programming. \n",
    "Learn the art of 'Zen of Python'\n",
    "\n",
    "## All the best for starting the awesome journey. "
   ]
  },
  {
   "cell_type": "code",
   "execution_count": null,
   "metadata": {},
   "outputs": [],
   "source": []
  }
 ],
 "metadata": {
  "kernelspec": {
   "display_name": "Python 3",
   "language": "python",
   "name": "python3"
  },
  "language_info": {
   "codemirror_mode": {
    "name": "ipython",
    "version": 3
   },
   "file_extension": ".py",
   "mimetype": "text/x-python",
   "name": "python",
   "nbconvert_exporter": "python",
   "pygments_lexer": "ipython3",
   "version": "3.7.6"
  }
 },
 "nbformat": 4,
 "nbformat_minor": 4
}
